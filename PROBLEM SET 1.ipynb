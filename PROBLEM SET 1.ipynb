{
 "cells": [
  {
   "cell_type": "markdown",
   "id": "0a1e187d",
   "metadata": {},
   "source": [
    "# <center>Problem Set 1</center>\n",
    "\n",
    "\n",
    "### Name: Vishwa Mistry\n",
    "### Student Id: 200568266"
   ]
  },
  {
   "cell_type": "markdown",
   "id": "a2f0eedb",
   "metadata": {},
   "source": [
    "# Question 1:  Find the Data Type"
   ]
  },
  {
   "cell_type": "code",
   "execution_count": 18,
   "id": "d0a006d8",
   "metadata": {},
   "outputs": [
    {
     "name": "stdout",
     "output_type": "stream",
     "text": [
      "<class 'int'>\n",
      "<class 'float'>\n",
      "<class 'bool'>\n",
      "<class 'str'>\n",
      "<class 'int'>\n",
      "<class 'str'>\n",
      "<class 'str'>\n",
      "<class 'float'>\n",
      "<class 'int'>\n",
      "<class 'set'>\n",
      "<class 'bool'>\n",
      "<class 'float'>\n"
     ]
    }
   ],
   "source": [
    "print(type(5))\n",
    "print(type(5.0))\n",
    "print(type(5 > 1))\n",
    "print(type('5'))\n",
    "print(type(5 * 2))\n",
    "print(type('5' * 2))\n",
    "print(type('5' + '2'))\n",
    "print(type(5 / 2))\n",
    "print(type(5 % 2))\n",
    "print(type({5, 2, 1}))\n",
    "print(type(5 == 3))\n",
    "print(type(3.14))"
   ]
  },
  {
   "cell_type": "markdown",
   "id": "e393b382",
   "metadata": {},
   "source": [
    "# Question 2"
   ]
  },
  {
   "cell_type": "code",
   "execution_count": 5,
   "id": "d7448c24",
   "metadata": {},
   "outputs": [
    {
     "name": "stdout",
     "output_type": "stream",
     "text": [
      "a. The length of 'Supercalifragilisticexpialidocious' is: 34 letters\n",
      "b. Does 'Supercalifragilisticexpialidocious' contain 'ice'?: True\n",
      "C.Supercalifragilisticexpialidocious and Bababadalgharaghtakamminarronnkonn are of the same length\n",
      "d. 'Bartok' comes first in the dictionary, and 'Buxtehude' comes last.\n"
     ]
    }
   ],
   "source": [
    "# Question 2\n",
    "# a. How many letters are there in 'Supercalifragilisticexpialidocious'?\n",
    "a = len('Supercalifragilisticexpialidocious')\n",
    "print(f\"a. The length of 'Supercalifragilisticexpialidocious' is: {a} letters\")\n",
    "\n",
    "# b. Does 'Supercalifragilisticexpialidocious' contain 'ice' as a substring?\n",
    "D = \"Supercalifragilisticexpialidocious\"\n",
    "contains_ice = \"ice\" in D\n",
    "print(f\"b. Does 'Supercalifragilisticexpialidocious' contain 'ice'?: {contains_ice}\")\n",
    "\n",
    "# c. Which of the following words is the longest: \n",
    "# 'Supercalifragilisticexpialidocious', 'Honorificabilitudinitatibus', or 'Bababadalgharaghtakamminarronnkonn'?\n",
    "b = len('Honorificabilitudinitatibus')\n",
    "c = len('Bababadalgharaghtakamminarronnkonn')\n",
    "\n",
    "#To check which word is long\n",
    "if a>b:\n",
    "    if a>c:\n",
    "        print('C.Supercalifragilisticexpialidocious is long word')\n",
    "    else:\n",
    "        print('C.Supercalifragilisticexpialidocious and Bababadalgharaghtakamminarronnkonn are of the same length')\n",
    "elif b>c:\n",
    "    print('C.Honorificabilitudinitatibus is long word')\n",
    "else:\n",
    "    print('C.Bababadalgharaghtakamminarronnkonn is long word')\n",
    "    \n",
    "# d. Which composer comes first and last in the dictionary: \n",
    "# 'Berlioz', 'Borodin', 'Brian', 'Bartok', 'Bellini', 'Buxtehude', 'Bernstein'?\n",
    "composers = ['Berlioz', 'Borodin', 'Brian', 'Bartok', 'Bellini', 'Buxtehude', 'Bernstein']\n",
    "composers.sort()\n",
    "\n",
    "first_composer = composers[0]\n",
    "last_composer = composers[-1]\n",
    "print(f\"d. '{first_composer}' comes first in the dictionary, and '{last_composer}' comes last.\")"
   ]
  },
  {
   "cell_type": "markdown",
   "id": "3bf7594a",
   "metadata": {},
   "source": [
    "# Question 3 : Implement function triangleArea(a,b,c) that takes as input the lengths of the 3 sides of a triangle and returns the area of the triangle."
   ]
  },
  {
   "cell_type": "code",
   "execution_count": 11,
   "id": "73725297",
   "metadata": {},
   "outputs": [
    {
     "name": "stdout",
     "output_type": "stream",
     "text": [
      "Area of triangle is: 1.7320508075688772\n"
     ]
    }
   ],
   "source": [
    "import math  # import math library\n",
    "\n",
    "def triangleArea(a, b, c):\n",
    "    # Calculate the semi-perimeter\n",
    "    s = (a + b + c) / 2\n",
    "    # Calculate and return the area using Heron's formula\n",
    "    return math.sqrt(s * (s - a) * (s - b) * (s - c))\n",
    "\n",
    "# Example usage\n",
    "print('Area of triangle is:', triangleArea(2, 2, 2))\n"
   ]
  },
  {
   "cell_type": "markdown",
   "id": "46c89369",
   "metadata": {},
   "source": [
    "# Question 4 : Write a program in python to separate odd and even integers in separate arrays."
   ]
  },
  {
   "cell_type": "code",
   "execution_count": 13,
   "id": "d2ae4f54",
   "metadata": {},
   "outputs": [
    {
     "name": "stdout",
     "output_type": "stream",
     "text": [
      "Enter number of elements :5\n",
      "25\n",
      "47\n",
      "42\n",
      "56\n",
      "32\n",
      "\n",
      "Entered numbers are: [25, 47, 42, 56, 32]\n",
      "\n",
      "Even numbers are: [42, 56, 32]\n",
      "\n",
      "Odd numbers are: [25, 47]\n"
     ]
    }
   ],
   "source": [
    "number= [] #Array to take number of elements\n",
    "even=[] #Array to get even numbers\n",
    "odd=[] #Array to get odd numbers\n",
    "  \n",
    "# number of elements as input\n",
    "n = int(input(\"Enter number of elements :\"))\n",
    "  \n",
    "# Get number of inputs till the range.\n",
    "for i in range(0, n):\n",
    "    a= int(input())\n",
    "  \n",
    "    number.append(a) # adding the element to number.\n",
    "      \n",
    "print(\"\\nEntered numbers are:\", number) #Entered elements.\n",
    "\n",
    "for i in number:\n",
    "    if i%2 == 0:\n",
    "        even.append(i);\n",
    "    else:\n",
    "        odd.append(i);\n",
    "print(\"\\nEven numbers are:\",even) #Even Numbers\n",
    "print(\"\\nOdd numbers are:\",odd) #Odd numbers"
   ]
  },
  {
   "cell_type": "markdown",
   "id": "020c975c",
   "metadata": {},
   "source": [
    "# Question 5: Write a function inside(x,y,x1,y1,x2,y2) that returns True or False depending on whether the point (x,y) lies in the rectangle with lower left corner (x1,y1) and upper right corner (x2,y2)."
   ]
  },
  {
   "cell_type": "markdown",
   "id": "60ded6f5",
   "metadata": {},
   "source": [
    "### Part a: Function inside(x, y, x1, y1, x2, y2) that returns True or False:"
   ]
  },
  {
   "cell_type": "code",
   "execution_count": 14,
   "id": "d39b6cd2",
   "metadata": {},
   "outputs": [
    {
     "name": "stdout",
     "output_type": "stream",
     "text": [
      "True\n",
      "False\n"
     ]
    }
   ],
   "source": [
    "def inside(x, y, x1, y1, x2, y2):\n",
    "    # Check if the point (x, y) lies within the rectangle defined by (x1, y1) and (x2, y2)\n",
    "    return (x >= x1 and x <= x2 and y >= y1 and y <= y2)\n",
    "\n",
    "# Example usage for part a:\n",
    "print(inside(1, 1, 0, 0, 2, 3))  # True\n",
    "print(inside(-1, -1, 0, 0, 2, 3))  # False"
   ]
  },
  {
   "cell_type": "markdown",
   "id": "c1a67a0a",
   "metadata": {},
   "source": [
    "### Part b: Testing whether the point (1, 1) lies in both rectangles:"
   ]
  },
  {
   "cell_type": "code",
   "execution_count": 15,
   "id": "491d72b5",
   "metadata": {},
   "outputs": [
    {
     "name": "stdout",
     "output_type": "stream",
     "text": [
      "The point (1,1) does not lie in both rectangles\n"
     ]
    }
   ],
   "source": [
    "# Check if point (1,1) lies in both rectangles\n",
    "if inside(1, 1, 0.3, 0.5, 1.1, 0.7) and inside(1, 1, 0.5, 0.2, 1.1, 2):\n",
    "    print(\"The point (1,1) lies in both rectangles\")\n",
    "else:\n",
    "    print(\"The point (1,1) does not lie in both rectangles\")"
   ]
  },
  {
   "cell_type": "markdown",
   "id": "0beaab45",
   "metadata": {},
   "source": [
    "# Question 6 : Write a function pig() that takes a word (i.e., a string) as input and returns its pigLatin form."
   ]
  },
  {
   "cell_type": "code",
   "execution_count": 30,
   "id": "58dfcce8",
   "metadata": {},
   "outputs": [
    {
     "name": "stdout",
     "output_type": "stream",
     "text": [
      "Enter a word which start comsonant:happy\n",
      "Enter a word which start Vowel:umbrella\n",
      "appyhay\n",
      "umbrellaway\n"
     ]
    }
   ],
   "source": [
    "def pig(word):\n",
    "    \n",
    "    if word[0] in 'aeiou': #Condition for Words start with Vowel\n",
    "        print(word+'way')\n",
    "        \n",
    "    else: \n",
    "        print(word[1:]+word[0]+'ay') #Condition for word start with consonant\n",
    "        \n",
    "        \n",
    "user_input1=input(\"Enter a word which start comsonant:\")\n",
    "user_input2=input(\"Enter a word which start Vowel:\")\n",
    "\n",
    "pig(user_input1) \n",
    "pig(user_input2) \n",
    "        "
   ]
  },
  {
   "cell_type": "markdown",
   "id": "e1a0a360",
   "metadata": {},
   "source": [
    "# Question 7: Write a function bldcount() that reads the file with name name and reports (i.e., prints) how many patients there are in each bloodtype."
   ]
  },
  {
   "cell_type": "code",
   "execution_count": 6,
   "id": "200c730e",
   "metadata": {},
   "outputs": [
    {
     "name": "stdout",
     "output_type": "stream",
     "text": [
      "AB AB B O A A AB O AB A O O A A A O O O AB O A A A A A AB AB A AB O AB O A O O O AB O AB AB AB A A O \n",
      "there are 13 patients of blood type AB\n",
      "there are 15 patients of blood type A\n",
      "there are 1 patients of blood type B\n",
      "there are 15 patients of blood type O\n",
      "there are 0 patients of blood type OO\n"
     ]
    }
   ],
   "source": [
    "a=open(\"bloodtype.txt\")\n",
    "data=a.read()\n",
    "print(data)\n",
    "\n",
    "bloodlist=data.split()\n",
    "\n",
    "AB=0\n",
    "B=0\n",
    "A=0\n",
    "O=0\n",
    "OO=0\n",
    "\n",
    "for i in range(len(bloodlist)):\n",
    "    if(bloodlist[i] == 'AB'):\n",
    "        AB= AB+1\n",
    "    elif(bloodlist[i] == 'B'):\n",
    "        B= B+1\n",
    "    elif(bloodlist[i]=='A'):\n",
    "        A= A+1\n",
    "    elif(bloodlist[i]=='O'):\n",
    "        O= O+1\n",
    "    elif(bloodlist[i]=='OO'):\n",
    "        OO=OO+1\n",
    "        \n",
    "print(\"there are {} patients of blood type AB\".format(AB))\n",
    "print(\"there are {} patients of blood type A\".format(A))\n",
    "print(\"there are {} patients of blood type B\".format(B))\n",
    "print(\"there are {} patients of blood type O\".format(O))\n",
    "print(\"there are {} patients of blood type OO\".format(OO))\n",
    "\n",
    "a.close()"
   ]
  },
  {
   "cell_type": "markdown",
   "id": "b48f9764",
   "metadata": {},
   "source": [
    "# Question 8 : Currency Converter"
   ]
  },
  {
   "cell_type": "code",
   "execution_count": 1,
   "id": "574e41fe",
   "metadata": {},
   "outputs": [
    {
     "name": "stdout",
     "output_type": "stream",
     "text": [
      "Enter the amount: 100\n",
      "Enter the currency: EUR\n",
      "100.00 EUR is equal to 122.97 USD\n"
     ]
    }
   ],
   "source": [
    "def currency_converter(amount, currency):\n",
    "  conversion_rates = {'AUD': 1.0345157,'CHF':1.0237414,'CNY':0.1550176,'DKK':0.1651442,\n",
    "               'EUR':1.2296544,'GBP':1.5550989,'HKD':0.1270207, 'INR':0.0177643,\n",
    "               'JPY': 0.01241401,'MXN': 0.0751848,'MYR': 0.3145411,'NOK':0.1677063,\n",
    "               'NZD':0.8003591,'PHP':0.0233234,'SEK':0.148269,'SGD':0.788871,'THB':0.0313789}   #Dictionary of currency rates.\n",
    "  \n",
    "  conversion_rate = conversion_rates.get(currency, 0)\n",
    "  if conversion_rate == 0:\n",
    "    return None\n",
    "  \n",
    "  return amount * conversion_rate\n",
    "\n",
    "amount = float(input(\"Enter the amount: \"))\n",
    "currency = input(\"Enter the currency: \")\n",
    "\n",
    "usd = currency_converter(amount, currency)\n",
    "if usd is None:\n",
    "  print(\"Invalid currency\")\n",
    "else:\n",
    "  print(\"{0:.2f}\".format(amount), currency, \"is equal to\", \"{0:.2f}\".format(usd), \"USD\")\n",
    "\n",
    "\n"
   ]
  },
  {
   "cell_type": "markdown",
   "id": "f14a6bef",
   "metadata": {},
   "source": [
    "# Question 9: Each of the following will cause an exception (an error). Identify what type of exception each will cause.\n",
    "\n",
    "\n",
    "\n",
    "### (1)Trying to add incompatible variables, as inadding 6 + ‘a’\n",
    "\n",
    "Error: unsupported operand type(s) for +: 'int' and 'str'\n",
    "\n",
    "6 is integer while A is charateer, so 6 cannot add the valuye of A.\n",
    "\n",
    "\n",
    "### (2)Referring to the 12th item of a list that has only 10 items\n",
    "\n",
    "Error: list index out of range\n",
    "\n",
    "As list consist only 10 items, so it cannot access 12th item of the list.\n",
    "\n",
    "### (3) Using a value that is out of range for a function’sinput, such as calling math.sqrt(-1.0)\n",
    "\n",
    "Error: math domain error\n",
    "\n",
    "### (4) Using an undeclared variable, such as print(x)when x has not been defined \n",
    "\n",
    "Error: name 'x' is not defined\n",
    "\n",
    "### (5) Trying to open a file that does not exist, such asmistyping the file name or looking in the wrong directory.\n",
    "\n",
    "Error: No such file or directory: 'python.txt'"
   ]
  },
  {
   "cell_type": "markdown",
   "id": "0045aaa7",
   "metadata": {},
   "source": [
    "# Question 10 : Write a function called frequencies() that takes a string as its only parameter, and returns a list of integers, showing the number of times each character appears in the text. Your function may ignore any characters that are not in letters."
   ]
  },
  {
   "cell_type": "code",
   "execution_count": 17,
   "id": "6e7f68ff",
   "metadata": {},
   "outputs": [
    {
     "name": "stdout",
     "output_type": "stream",
     "text": [
      "enter the string here: apple\n",
      "dict_values([1, 0, 0, 0, 1, 0, 0, 0, 0, 0, 0, 1, 0, 0, 0, 2, 0, 0, 0, 0, 0, 0, 0, 0, 0, 0])\n"
     ]
    }
   ],
   "source": [
    " def frequencies():\n",
    "    letters = 'abcdefghijklmnopqrstuvwxyz'\n",
    "    word = input(\"enter the string here: \")\n",
    "    word = word.lower()\n",
    "    alphabets = { \"a\":0,\"b\":0,\"c\":0,\"d\":0,\"e\":0,\"f\":0,\"g\":0,\"h\":0,\"i\":0,\"j\":0,\"k\":0,\"l\":0,\"m\":0,\"n\":0,\"o\":0,\"p\":0,\"q\":0,\"r\":0,\"s\":0,\"t\":0,\"u\":0,\"v\":0,\"w\":0,\"x\":0,\"y\":0,\"z\":0}\n",
    "    for k in range(len(word)):\n",
    "        \n",
    "        if(word[k] in letters):\n",
    "            alphabets[word[k]] += 1\n",
    "        else:\n",
    "            continue\n",
    "    print(alphabets.values())\n",
    "    \n",
    "frequencies()"
   ]
  },
  {
   "cell_type": "code",
   "execution_count": null,
   "id": "be9e2c4c",
   "metadata": {},
   "outputs": [],
   "source": []
  }
 ],
 "metadata": {
  "kernelspec": {
   "display_name": "Python 3 (ipykernel)",
   "language": "python",
   "name": "python3"
  },
  "language_info": {
   "codemirror_mode": {
    "name": "ipython",
    "version": 3
   },
   "file_extension": ".py",
   "mimetype": "text/x-python",
   "name": "python",
   "nbconvert_exporter": "python",
   "pygments_lexer": "ipython3",
   "version": "3.11.5"
  }
 },
 "nbformat": 4,
 "nbformat_minor": 5
}
